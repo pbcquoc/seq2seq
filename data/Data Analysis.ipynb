{
 "cells": [
  {
   "cell_type": "code",
   "execution_count": 10,
   "metadata": {
    "collapsed": false
   },
   "outputs": [],
   "source": [
    "import data\n",
    "import numpy as np\n",
    "import pickle"
   ]
  },
  {
   "cell_type": "code",
   "execution_count": 2,
   "metadata": {
    "collapsed": false
   },
   "outputs": [
    {
     "name": "stdout",
     "output_type": "stream",
     "text": [
      "\n",
      ">> Read lines from file\n",
      "\n",
      ":: Sample from read(p) lines\n",
      "['in the future our robot overlords will honor acts of heroism such as preformed by', \"stop squirming. you're making it hurt worse.\", 'you are a keyboard warrior champion', \"it's late september, which can mean only one thing: summer has finally come to the bay area.\"]\n",
      "\n",
      ">> Filter lines\n",
      "['in the future our robot overlords will honor acts of heroism such as preformed by', 'stop squirming youre making it hurt worse', 'you are a keyboard warrior champion', 'its late september which can mean only one thing summer has finally come to the bay area']\n",
      "\n",
      ">> 2nd layer of filtering\n",
      "29% filtered from original data\n",
      "\n",
      "q : betting android phones wont have headphone jokes in the next 18 months ; a : i hope youre right\n",
      "\n",
      "q : avast ye mateys it is almost time for a perfect day fer it ; a : imagine a pirate twitter chat\n",
      "\n",
      ">> Segment lines into words\n",
      "\n",
      ":: Sample from segmented list of words\n",
      "\n",
      "q : ['betting', 'android', 'phones', 'wont', 'have', 'headphone', 'jokes', 'in', 'the', 'next', '18', 'months'] ; a : ['i', 'hope', 'youre', 'right']\n",
      "\n",
      "q : ['avast', 'ye', 'mateys', 'it', 'is', 'almost', 'time', 'for', 'a', 'perfect', 'day', 'fer', 'it'] ; a : ['imagine', 'a', 'pirate', 'twitter', 'chat']\n",
      "\n",
      " >> Index words\n",
      "\n",
      " >> Zero Padding\n",
      "\n",
      " >> Save numpy arrays to disk\n"
     ]
    }
   ],
   "source": [
    "data.process_data()"
   ]
  },
  {
   "cell_type": "markdown",
   "metadata": {},
   "source": [
    "**29% filtered from original data**"
   ]
  },
  {
   "cell_type": "code",
   "execution_count": 25,
   "metadata": {
    "collapsed": false
   },
   "outputs": [],
   "source": [
    "idx_q = np.load('idx_q.npy')\n",
    "idx_a = np.load('idx_a.npy')\n",
    "meta = pickle.load(open('metadata.pkl', 'rb'))"
   ]
  },
  {
   "cell_type": "code",
   "execution_count": 28,
   "metadata": {
    "collapsed": false
   },
   "outputs": [],
   "source": [
    "w2idx, idx2w = meta['w2idx'], meta['idx2w']"
   ]
  },
  {
   "cell_type": "code",
   "execution_count": 44,
   "metadata": {
    "collapsed": false
   },
   "outputs": [
    {
     "name": "stdout",
     "output_type": "stream",
     "text": [
      "[ 131   27 4235  441    3  898    6  255   16   15  140   26  373   91  176\n",
      " 5503    0    0    0    0] yeah im preparing myself to drop a lot on this man but definitely need something reliable _ _ _ _ yeah dude i would definitely consider a daniel unk super reliable and they are just bad ass _ _ _\n"
     ]
    }
   ],
   "source": [
    "id = 0\n",
    "q = idx_q[id]\n",
    "a = idx_a[id]\n",
    "q_str = ' '.join(idx2w[c] for c in q)\n",
    "a_str = ' '.join(idx2w[c] for c in a)\n",
    "print q, q_str, a_str"
   ]
  },
  {
   "cell_type": "code",
   "execution_count": 5,
   "metadata": {
    "collapsed": true
   },
   "outputs": [],
   "source": [
    "from matplotlib import pyplot as plt\n",
    "%matplotlib inline"
   ]
  },
  {
   "cell_type": "code",
   "execution_count": 11,
   "metadata": {
    "collapsed": false
   },
   "outputs": [],
   "source": [
    "freq = [ freq_ for name, freq_ in freq_dist.most_common(10000) ]"
   ]
  },
  {
   "cell_type": "code",
   "execution_count": 16,
   "metadata": {
    "collapsed": false
   },
   "outputs": [
    {
     "data": {
      "image/png": "[encoded data removed]",
      "text/plain": [
       "<matplotlib.figure.Figure at 0x7f7480c5c978>"
      ]
     },
     "metadata": {},
     "output_type": "display_data"
    }
   ],
   "source": [
    "plt.plot(list(range(len(freq))), freq)\n",
    "axes = plt.gca()\n",
    "#axes.set_xlim([xmin,xmax])\n",
    "axes.set_ylim([0,5000])\n",
    "plt.show()"
   ]
  },
  {
   "cell_type": "code",
   "execution_count": 31,
   "metadata": {
    "collapsed": false
   },
   "outputs": [],
   "source": [
    "# number of unknowns\n",
    "num_unk = (idx_a == w2idx[data.UNK]).sum() + (idx_q == w2idx[data.UNK]).sum()"
   ]
  },
  {
   "cell_type": "code",
   "execution_count": 32,
   "metadata": {
    "collapsed": false
   },
   "outputs": [],
   "source": [
    "# number of words in vocabulary (excluding zeros)\n",
    "num_words = (idx_a > w2idx[data.UNK]).sum() + (idx_q > w2idx[data.UNK]).sum()"
   ]
  },
  {
   "cell_type": "markdown",
   "metadata": {},
   "source": [
    "## % of unknowns : 10.83% for a vocb size of 6000"
   ]
  },
  {
   "cell_type": "code",
   "execution_count": 34,
   "metadata": {
    "collapsed": false
   },
   "outputs": [
    {
     "data": {
      "text/plain": [
       "10.831357510060943"
      ]
     },
     "execution_count": 34,
     "metadata": {},
     "output_type": "execute_result"
    }
   ],
   "source": [
    "(1.0*num_unk/num_words)*100"
   ]
  },
  {
   "cell_type": "code",
   "execution_count": null,
   "metadata": {
    "collapsed": true
   },
   "outputs": [],
   "source": []
  },
  {
   "cell_type": "code",
   "execution_count": null,
   "metadata": {
    "collapsed": true
   },
   "outputs": [],
   "source": []
  },
  {
   "cell_type": "code",
   "execution_count": null,
   "metadata": {
    "collapsed": true
   },
   "outputs": [],
   "source": []
  },
  {
   "cell_type": "code",
   "execution_count": null,
   "metadata": {
    "collapsed": true
   },
   "outputs": [],
   "source": []
  }
 ],
 "metadata": {
  "kernelspec": {
   "display_name": "Python [Root]",
   "language": "python",
   "name": "Python [Root]"
  },
  "language_info": {
   "codemirror_mode": {
    "name": "ipython",
    "version": 2
   },
   "file_extension": ".py",
   "mimetype": "text/x-python",
   "name": "python",
   "nbconvert_exporter": "python",
   "pygments_lexer": "ipython2",
   "version": "2.7.12"
  }
 },
 "nbformat": 4,
 "nbformat_minor": 0
}
